{
 "cells": [
  {
   "cell_type": "code",
   "execution_count": 1,
   "id": "25983bb0",
   "metadata": {},
   "outputs": [],
   "source": [
    "#!pip3 install --upgrade numpy "
   ]
  },
  {
   "cell_type": "code",
   "execution_count": 2,
   "id": "d2a787aa",
   "metadata": {},
   "outputs": [
    {
     "name": "stderr",
     "output_type": "stream",
     "text": [
      "C:\\ProgramData\\Anaconda3\\lib\\site-packages\\xgboost\\compat.py:36: FutureWarning: pandas.Int64Index is deprecated and will be removed from pandas in a future version. Use pandas.Index with the appropriate dtype instead.\n",
      "  from pandas import MultiIndex, Int64Index\n"
     ]
    }
   ],
   "source": [
    "#importing packages\n",
    "import numpy as np\n",
    "import pandas as pd\n",
    "\n",
    "import matplotlib.pyplot as plt\n",
    "%matplotlib inline\n",
    "import seaborn as sns\n",
    "import sweetviz\n",
    "from sklearn.decomposition import PCA\n",
    "from scipy import stats\n",
    "from scipy.stats import chi2_contingency\n",
    "from sklearn import metrics\n",
    "from sklearn.metrics import roc_auc_score, confusion_matrix, roc_curve, recall_score, precision_score\n",
    "from sklearn import preprocessing\n",
    "from sklearn.preprocessing import StandardScaler,PowerTransformer\n",
    "import xgboost as xgb\n",
    "from xgboost import XGBClassifier\n",
    "from sklearn.ensemble import RandomForestClassifier\n",
    "from sklearn.model_selection import KFold,RepeatedKFold,GridSearchCV\n",
    "import warnings\n",
    "import time\n",
    "from imblearn.over_sampling import ADASYN \n",
    "from collections import Counter\n",
    "warnings.filterwarnings(\"ignore\")"
   ]
  },
  {
   "cell_type": "code",
   "execution_count": 3,
   "id": "201cd587",
   "metadata": {},
   "outputs": [],
   "source": [
    "pd.set_option(\"display.max_columns\", 999)\n",
    "pd.set_option(\"display.max_rows\", 999)\n"
   ]
  },
  {
   "cell_type": "code",
   "execution_count": 4,
   "id": "da5a9819",
   "metadata": {},
   "outputs": [
    {
     "data": {
      "text/html": [
       "<div>\n",
       "<style scoped>\n",
       "    .dataframe tbody tr th:only-of-type {\n",
       "        vertical-align: middle;\n",
       "    }\n",
       "\n",
       "    .dataframe tbody tr th {\n",
       "        vertical-align: top;\n",
       "    }\n",
       "\n",
       "    .dataframe thead th {\n",
       "        text-align: right;\n",
       "    }\n",
       "</style>\n",
       "<table border=\"1\" class=\"dataframe\">\n",
       "  <thead>\n",
       "    <tr style=\"text-align: right;\">\n",
       "      <th></th>\n",
       "      <th>Unnamed: 0</th>\n",
       "      <th>SK_ID_CURR</th>\n",
       "      <th>TARGET</th>\n",
       "      <th>NAME_CONTRACT_TYPE</th>\n",
       "      <th>CODE_GENDER</th>\n",
       "      <th>FLAG_OWN_CAR</th>\n",
       "      <th>FLAG_OWN_REALTY</th>\n",
       "      <th>CNT_CHILDREN</th>\n",
       "      <th>AMT_INCOME_TOTAL</th>\n",
       "      <th>AMT_CREDIT</th>\n",
       "      <th>AMT_ANNUITY</th>\n",
       "      <th>AMT_GOODS_PRICE</th>\n",
       "      <th>NAME_TYPE_SUITE</th>\n",
       "      <th>NAME_INCOME_TYPE</th>\n",
       "      <th>NAME_EDUCATION_TYPE</th>\n",
       "      <th>NAME_FAMILY_STATUS</th>\n",
       "      <th>NAME_HOUSING_TYPE</th>\n",
       "      <th>REGION_POPULATION_RELATIVE</th>\n",
       "      <th>DAYS_BIRTH</th>\n",
       "      <th>DAYS_EMPLOYED</th>\n",
       "      <th>DAYS_REGISTRATION</th>\n",
       "      <th>DAYS_ID_PUBLISH</th>\n",
       "      <th>OCCUPATION_TYPE</th>\n",
       "      <th>CNT_FAM_MEMBERS</th>\n",
       "      <th>WEEKDAY_APPR_PROCESS_START</th>\n",
       "      <th>HOUR_APPR_PROCESS_START</th>\n",
       "      <th>REG_REGION_NOT_LIVE_REGION</th>\n",
       "      <th>REG_REGION_NOT_WORK_REGION</th>\n",
       "      <th>LIVE_REGION_NOT_WORK_REGION</th>\n",
       "      <th>REG_CITY_NOT_LIVE_CITY</th>\n",
       "      <th>REG_CITY_NOT_WORK_CITY</th>\n",
       "      <th>LIVE_CITY_NOT_WORK_CITY</th>\n",
       "      <th>ORGANIZATION_TYPE</th>\n",
       "      <th>EXT_SOURCE_2</th>\n",
       "      <th>EXT_SOURCE_3</th>\n",
       "      <th>OBS_30_CNT_SOCIAL_CIRCLE</th>\n",
       "      <th>DEF_30_CNT_SOCIAL_CIRCLE</th>\n",
       "      <th>OBS_60_CNT_SOCIAL_CIRCLE</th>\n",
       "      <th>DEF_60_CNT_SOCIAL_CIRCLE</th>\n",
       "      <th>DAYS_LAST_PHONE_CHANGE</th>\n",
       "      <th>AMT_REQ_CREDIT_BUREAU_HOUR</th>\n",
       "      <th>AMT_REQ_CREDIT_BUREAU_DAY</th>\n",
       "      <th>AMT_REQ_CREDIT_BUREAU_WEEK</th>\n",
       "      <th>AMT_REQ_CREDIT_BUREAU_MON</th>\n",
       "      <th>AMT_REQ_CREDIT_BUREAU_QRT</th>\n",
       "      <th>AMT_REQ_CREDIT_BUREAU_YEAR</th>\n",
       "      <th>AMT_INCOME_RANGE</th>\n",
       "      <th>AMT_CREDIT_RANGE</th>\n",
       "    </tr>\n",
       "  </thead>\n",
       "  <tbody>\n",
       "    <tr>\n",
       "      <th>0</th>\n",
       "      <td>0</td>\n",
       "      <td>100002</td>\n",
       "      <td>1</td>\n",
       "      <td>Cash loans</td>\n",
       "      <td>M</td>\n",
       "      <td>N</td>\n",
       "      <td>Y</td>\n",
       "      <td>0</td>\n",
       "      <td>202500.0</td>\n",
       "      <td>406597.5</td>\n",
       "      <td>24700.5</td>\n",
       "      <td>351000.0</td>\n",
       "      <td>Unaccompanied</td>\n",
       "      <td>Working</td>\n",
       "      <td>Secondary / secondary special</td>\n",
       "      <td>Single / not married</td>\n",
       "      <td>House / apartment</td>\n",
       "      <td>0.018801</td>\n",
       "      <td>9461</td>\n",
       "      <td>637</td>\n",
       "      <td>3648</td>\n",
       "      <td>2120</td>\n",
       "      <td>Laborers</td>\n",
       "      <td>1</td>\n",
       "      <td>WEDNESDAY</td>\n",
       "      <td>NaN</td>\n",
       "      <td>NaN</td>\n",
       "      <td>NaN</td>\n",
       "      <td>NaN</td>\n",
       "      <td>NaN</td>\n",
       "      <td>NaN</td>\n",
       "      <td>NaN</td>\n",
       "      <td>NaN</td>\n",
       "      <td>NaN</td>\n",
       "      <td>NaN</td>\n",
       "      <td>NaN</td>\n",
       "      <td>NaN</td>\n",
       "      <td>NaN</td>\n",
       "      <td>NaN</td>\n",
       "      <td>NaN</td>\n",
       "      <td>NaN</td>\n",
       "      <td>NaN</td>\n",
       "      <td>NaN</td>\n",
       "      <td>NaN</td>\n",
       "      <td>NaN</td>\n",
       "      <td>NaN</td>\n",
       "      <td>NaN</td>\n",
       "      <td>NaN</td>\n",
       "    </tr>\n",
       "    <tr>\n",
       "      <th>1</th>\n",
       "      <td>2</td>\n",
       "      <td>100004</td>\n",
       "      <td>0</td>\n",
       "      <td>Revolving loans</td>\n",
       "      <td>M</td>\n",
       "      <td>Y</td>\n",
       "      <td>Y</td>\n",
       "      <td>0</td>\n",
       "      <td>67500.0</td>\n",
       "      <td>135000.0</td>\n",
       "      <td>6750.0</td>\n",
       "      <td>135000.0</td>\n",
       "      <td>Unaccompanied</td>\n",
       "      <td>Working</td>\n",
       "      <td>Secondary / secondary special</td>\n",
       "      <td>Single / not married</td>\n",
       "      <td>House / apartment</td>\n",
       "      <td>0.010032</td>\n",
       "      <td>19046</td>\n",
       "      <td>225</td>\n",
       "      <td>4260</td>\n",
       "      <td>2531</td>\n",
       "      <td>Laborers</td>\n",
       "      <td>1</td>\n",
       "      <td>MONDAY</td>\n",
       "      <td>NaN</td>\n",
       "      <td>NaN</td>\n",
       "      <td>NaN</td>\n",
       "      <td>NaN</td>\n",
       "      <td>NaN</td>\n",
       "      <td>NaN</td>\n",
       "      <td>NaN</td>\n",
       "      <td>NaN</td>\n",
       "      <td>NaN</td>\n",
       "      <td>NaN</td>\n",
       "      <td>NaN</td>\n",
       "      <td>NaN</td>\n",
       "      <td>NaN</td>\n",
       "      <td>NaN</td>\n",
       "      <td>NaN</td>\n",
       "      <td>NaN</td>\n",
       "      <td>NaN</td>\n",
       "      <td>NaN</td>\n",
       "      <td>NaN</td>\n",
       "      <td>NaN</td>\n",
       "      <td>NaN</td>\n",
       "      <td>NaN</td>\n",
       "      <td>NaN</td>\n",
       "    </tr>\n",
       "    <tr>\n",
       "      <th>2</th>\n",
       "      <td>5</td>\n",
       "      <td>100008</td>\n",
       "      <td>0</td>\n",
       "      <td>Cash loans</td>\n",
       "      <td>M</td>\n",
       "      <td>N</td>\n",
       "      <td>Y</td>\n",
       "      <td>0</td>\n",
       "      <td>99000.0</td>\n",
       "      <td>490495.5</td>\n",
       "      <td>27517.5</td>\n",
       "      <td>454500.0</td>\n",
       "      <td>Spouse, partner</td>\n",
       "      <td>State servant</td>\n",
       "      <td>Secondary / secondary special</td>\n",
       "      <td>Married</td>\n",
       "      <td>House / apartment</td>\n",
       "      <td>0.035792</td>\n",
       "      <td>16941</td>\n",
       "      <td>1588</td>\n",
       "      <td>4970</td>\n",
       "      <td>477</td>\n",
       "      <td>Laborers</td>\n",
       "      <td>2</td>\n",
       "      <td>WEDNESDAY</td>\n",
       "      <td>NaN</td>\n",
       "      <td>NaN</td>\n",
       "      <td>NaN</td>\n",
       "      <td>NaN</td>\n",
       "      <td>NaN</td>\n",
       "      <td>NaN</td>\n",
       "      <td>NaN</td>\n",
       "      <td>NaN</td>\n",
       "      <td>NaN</td>\n",
       "      <td>NaN</td>\n",
       "      <td>NaN</td>\n",
       "      <td>NaN</td>\n",
       "      <td>NaN</td>\n",
       "      <td>NaN</td>\n",
       "      <td>NaN</td>\n",
       "      <td>NaN</td>\n",
       "      <td>NaN</td>\n",
       "      <td>NaN</td>\n",
       "      <td>NaN</td>\n",
       "      <td>NaN</td>\n",
       "      <td>NaN</td>\n",
       "      <td>NaN</td>\n",
       "      <td>NaN</td>\n",
       "    </tr>\n",
       "    <tr>\n",
       "      <th>3</th>\n",
       "      <td>8</td>\n",
       "      <td>100011</td>\n",
       "      <td>0</td>\n",
       "      <td>Cash loans</td>\n",
       "      <td>F</td>\n",
       "      <td>N</td>\n",
       "      <td>Y</td>\n",
       "      <td>0</td>\n",
       "      <td>112500.0</td>\n",
       "      <td>1019610.0</td>\n",
       "      <td>33826.5</td>\n",
       "      <td>913500.0</td>\n",
       "      <td>Children</td>\n",
       "      <td>Pensioner</td>\n",
       "      <td>Secondary / secondary special</td>\n",
       "      <td>Married</td>\n",
       "      <td>House / apartment</td>\n",
       "      <td>0.018634</td>\n",
       "      <td>20099</td>\n",
       "      <td>365243</td>\n",
       "      <td>7427</td>\n",
       "      <td>3514</td>\n",
       "      <td>Unknown_occupation</td>\n",
       "      <td>2</td>\n",
       "      <td>WEDNESDAY</td>\n",
       "      <td>NaN</td>\n",
       "      <td>NaN</td>\n",
       "      <td>NaN</td>\n",
       "      <td>NaN</td>\n",
       "      <td>NaN</td>\n",
       "      <td>NaN</td>\n",
       "      <td>NaN</td>\n",
       "      <td>NaN</td>\n",
       "      <td>NaN</td>\n",
       "      <td>NaN</td>\n",
       "      <td>NaN</td>\n",
       "      <td>NaN</td>\n",
       "      <td>NaN</td>\n",
       "      <td>NaN</td>\n",
       "      <td>NaN</td>\n",
       "      <td>NaN</td>\n",
       "      <td>NaN</td>\n",
       "      <td>NaN</td>\n",
       "      <td>NaN</td>\n",
       "      <td>NaN</td>\n",
       "      <td>NaN</td>\n",
       "      <td>NaN</td>\n",
       "      <td>NaN</td>\n",
       "    </tr>\n",
       "    <tr>\n",
       "      <th>4</th>\n",
       "      <td>10</td>\n",
       "      <td>100014</td>\n",
       "      <td>0</td>\n",
       "      <td>Cash loans</td>\n",
       "      <td>F</td>\n",
       "      <td>N</td>\n",
       "      <td>Y</td>\n",
       "      <td>1</td>\n",
       "      <td>112500.0</td>\n",
       "      <td>652500.0</td>\n",
       "      <td>21177.0</td>\n",
       "      <td>652500.0</td>\n",
       "      <td>Unaccompanied</td>\n",
       "      <td>Working</td>\n",
       "      <td>Higher education</td>\n",
       "      <td>Married</td>\n",
       "      <td>House / apartment</td>\n",
       "      <td>0.022800</td>\n",
       "      <td>10197</td>\n",
       "      <td>679</td>\n",
       "      <td>4427</td>\n",
       "      <td>738</td>\n",
       "      <td>Core staff</td>\n",
       "      <td>3</td>\n",
       "      <td>SATURDAY</td>\n",
       "      <td>NaN</td>\n",
       "      <td>NaN</td>\n",
       "      <td>NaN</td>\n",
       "      <td>NaN</td>\n",
       "      <td>NaN</td>\n",
       "      <td>NaN</td>\n",
       "      <td>NaN</td>\n",
       "      <td>NaN</td>\n",
       "      <td>NaN</td>\n",
       "      <td>NaN</td>\n",
       "      <td>NaN</td>\n",
       "      <td>NaN</td>\n",
       "      <td>NaN</td>\n",
       "      <td>NaN</td>\n",
       "      <td>NaN</td>\n",
       "      <td>NaN</td>\n",
       "      <td>NaN</td>\n",
       "      <td>NaN</td>\n",
       "      <td>NaN</td>\n",
       "      <td>NaN</td>\n",
       "      <td>NaN</td>\n",
       "      <td>NaN</td>\n",
       "      <td>NaN</td>\n",
       "    </tr>\n",
       "  </tbody>\n",
       "</table>\n",
       "</div>"
      ],
      "text/plain": [
       "   Unnamed: 0  SK_ID_CURR  TARGET NAME_CONTRACT_TYPE CODE_GENDER FLAG_OWN_CAR  \\\n",
       "0           0      100002       1         Cash loans           M            N   \n",
       "1           2      100004       0    Revolving loans           M            Y   \n",
       "2           5      100008       0         Cash loans           M            N   \n",
       "3           8      100011       0         Cash loans           F            N   \n",
       "4          10      100014       0         Cash loans           F            N   \n",
       "\n",
       "  FLAG_OWN_REALTY  CNT_CHILDREN  AMT_INCOME_TOTAL  AMT_CREDIT  AMT_ANNUITY  \\\n",
       "0               Y             0          202500.0    406597.5      24700.5   \n",
       "1               Y             0           67500.0    135000.0       6750.0   \n",
       "2               Y             0           99000.0    490495.5      27517.5   \n",
       "3               Y             0          112500.0   1019610.0      33826.5   \n",
       "4               Y             1          112500.0    652500.0      21177.0   \n",
       "\n",
       "   AMT_GOODS_PRICE  NAME_TYPE_SUITE NAME_INCOME_TYPE  \\\n",
       "0         351000.0    Unaccompanied          Working   \n",
       "1         135000.0    Unaccompanied          Working   \n",
       "2         454500.0  Spouse, partner    State servant   \n",
       "3         913500.0         Children        Pensioner   \n",
       "4         652500.0    Unaccompanied          Working   \n",
       "\n",
       "             NAME_EDUCATION_TYPE    NAME_FAMILY_STATUS  NAME_HOUSING_TYPE  \\\n",
       "0  Secondary / secondary special  Single / not married  House / apartment   \n",
       "1  Secondary / secondary special  Single / not married  House / apartment   \n",
       "2  Secondary / secondary special               Married  House / apartment   \n",
       "3  Secondary / secondary special               Married  House / apartment   \n",
       "4               Higher education               Married  House / apartment   \n",
       "\n",
       "   REGION_POPULATION_RELATIVE  DAYS_BIRTH  DAYS_EMPLOYED  DAYS_REGISTRATION  \\\n",
       "0                    0.018801        9461            637               3648   \n",
       "1                    0.010032       19046            225               4260   \n",
       "2                    0.035792       16941           1588               4970   \n",
       "3                    0.018634       20099         365243               7427   \n",
       "4                    0.022800       10197            679               4427   \n",
       "\n",
       "   DAYS_ID_PUBLISH     OCCUPATION_TYPE  CNT_FAM_MEMBERS  \\\n",
       "0             2120            Laborers                1   \n",
       "1             2531            Laborers                1   \n",
       "2              477            Laborers                2   \n",
       "3             3514  Unknown_occupation                2   \n",
       "4              738          Core staff                3   \n",
       "\n",
       "  WEEKDAY_APPR_PROCESS_START  HOUR_APPR_PROCESS_START  \\\n",
       "0                  WEDNESDAY                      NaN   \n",
       "1                     MONDAY                      NaN   \n",
       "2                  WEDNESDAY                      NaN   \n",
       "3                  WEDNESDAY                      NaN   \n",
       "4                   SATURDAY                      NaN   \n",
       "\n",
       "   REG_REGION_NOT_LIVE_REGION  REG_REGION_NOT_WORK_REGION  \\\n",
       "0                         NaN                         NaN   \n",
       "1                         NaN                         NaN   \n",
       "2                         NaN                         NaN   \n",
       "3                         NaN                         NaN   \n",
       "4                         NaN                         NaN   \n",
       "\n",
       "   LIVE_REGION_NOT_WORK_REGION  REG_CITY_NOT_LIVE_CITY  \\\n",
       "0                          NaN                     NaN   \n",
       "1                          NaN                     NaN   \n",
       "2                          NaN                     NaN   \n",
       "3                          NaN                     NaN   \n",
       "4                          NaN                     NaN   \n",
       "\n",
       "   REG_CITY_NOT_WORK_CITY  LIVE_CITY_NOT_WORK_CITY  ORGANIZATION_TYPE  \\\n",
       "0                     NaN                      NaN                NaN   \n",
       "1                     NaN                      NaN                NaN   \n",
       "2                     NaN                      NaN                NaN   \n",
       "3                     NaN                      NaN                NaN   \n",
       "4                     NaN                      NaN                NaN   \n",
       "\n",
       "   EXT_SOURCE_2  EXT_SOURCE_3  OBS_30_CNT_SOCIAL_CIRCLE  \\\n",
       "0           NaN           NaN                       NaN   \n",
       "1           NaN           NaN                       NaN   \n",
       "2           NaN           NaN                       NaN   \n",
       "3           NaN           NaN                       NaN   \n",
       "4           NaN           NaN                       NaN   \n",
       "\n",
       "   DEF_30_CNT_SOCIAL_CIRCLE  OBS_60_CNT_SOCIAL_CIRCLE  \\\n",
       "0                       NaN                       NaN   \n",
       "1                       NaN                       NaN   \n",
       "2                       NaN                       NaN   \n",
       "3                       NaN                       NaN   \n",
       "4                       NaN                       NaN   \n",
       "\n",
       "   DEF_60_CNT_SOCIAL_CIRCLE  DAYS_LAST_PHONE_CHANGE  \\\n",
       "0                       NaN                     NaN   \n",
       "1                       NaN                     NaN   \n",
       "2                       NaN                     NaN   \n",
       "3                       NaN                     NaN   \n",
       "4                       NaN                     NaN   \n",
       "\n",
       "   AMT_REQ_CREDIT_BUREAU_HOUR  AMT_REQ_CREDIT_BUREAU_DAY  \\\n",
       "0                         NaN                        NaN   \n",
       "1                         NaN                        NaN   \n",
       "2                         NaN                        NaN   \n",
       "3                         NaN                        NaN   \n",
       "4                         NaN                        NaN   \n",
       "\n",
       "   AMT_REQ_CREDIT_BUREAU_WEEK  AMT_REQ_CREDIT_BUREAU_MON  \\\n",
       "0                         NaN                        NaN   \n",
       "1                         NaN                        NaN   \n",
       "2                         NaN                        NaN   \n",
       "3                         NaN                        NaN   \n",
       "4                         NaN                        NaN   \n",
       "\n",
       "   AMT_REQ_CREDIT_BUREAU_QRT  AMT_REQ_CREDIT_BUREAU_YEAR  AMT_INCOME_RANGE  \\\n",
       "0                        NaN                         NaN               NaN   \n",
       "1                        NaN                         NaN               NaN   \n",
       "2                        NaN                         NaN               NaN   \n",
       "3                        NaN                         NaN               NaN   \n",
       "4                        NaN                         NaN               NaN   \n",
       "\n",
       "   AMT_CREDIT_RANGE  \n",
       "0               NaN  \n",
       "1               NaN  \n",
       "2               NaN  \n",
       "3               NaN  \n",
       "4               NaN  "
      ]
     },
     "execution_count": 4,
     "metadata": {},
     "output_type": "execute_result"
    }
   ],
   "source": [
    "df_loan = pd.read_excel(\"loan_data_eda.xlsx\")\n",
    "df_loan.head()"
   ]
  },
  {
   "cell_type": "code",
   "execution_count": 5,
   "id": "9026edc1",
   "metadata": {},
   "outputs": [],
   "source": [
    "df_loan.drop('Unnamed: 0',axis=1, inplace=True)"
   ]
  },
  {
   "cell_type": "code",
   "execution_count": 6,
   "id": "2a0a163e",
   "metadata": {},
   "outputs": [
    {
     "data": {
      "text/plain": [
       "0    0.921017\n",
       "1    0.078983\n",
       "Name: TARGET, dtype: float64"
      ]
     },
     "execution_count": 6,
     "metadata": {},
     "output_type": "execute_result"
    }
   ],
   "source": [
    "df_loan['TARGET'].value_counts(normalize=True)"
   ]
  },
  {
   "cell_type": "code",
   "execution_count": 7,
   "id": "ef433e8d",
   "metadata": {},
   "outputs": [
    {
     "data": {
      "text/plain": [
       "(207589, 47)"
      ]
     },
     "execution_count": 7,
     "metadata": {},
     "output_type": "execute_result"
    }
   ],
   "source": [
    "df_loan.shape"
   ]
  },
  {
   "cell_type": "code",
   "execution_count": 8,
   "id": "087963c4",
   "metadata": {},
   "outputs": [
    {
     "data": {
      "text/plain": [
       "SK_ID_CURR                     0.000000\n",
       "TARGET                         0.000000\n",
       "NAME_CONTRACT_TYPE             0.000000\n",
       "CODE_GENDER                    0.000000\n",
       "FLAG_OWN_CAR                   0.000000\n",
       "FLAG_OWN_REALTY                0.000000\n",
       "CNT_CHILDREN                   0.000000\n",
       "AMT_INCOME_TOTAL               0.000000\n",
       "AMT_CREDIT                     0.000000\n",
       "AMT_ANNUITY                    0.000000\n",
       "AMT_GOODS_PRICE                0.000000\n",
       "NAME_TYPE_SUITE                0.000000\n",
       "NAME_INCOME_TYPE               0.000000\n",
       "NAME_EDUCATION_TYPE            0.000000\n",
       "NAME_FAMILY_STATUS             0.000000\n",
       "NAME_HOUSING_TYPE              0.000000\n",
       "REGION_POPULATION_RELATIVE     0.000000\n",
       "DAYS_BIRTH                     0.000000\n",
       "DAYS_EMPLOYED                  0.000000\n",
       "DAYS_REGISTRATION              0.000000\n",
       "DAYS_ID_PUBLISH                0.000000\n",
       "OCCUPATION_TYPE                0.000000\n",
       "CNT_FAM_MEMBERS                0.000000\n",
       "WEEKDAY_APPR_PROCESS_START     0.881092\n",
       "HOUR_APPR_PROCESS_START        1.000000\n",
       "REG_REGION_NOT_LIVE_REGION     1.000000\n",
       "REG_REGION_NOT_WORK_REGION     1.000000\n",
       "LIVE_REGION_NOT_WORK_REGION    1.000000\n",
       "REG_CITY_NOT_LIVE_CITY         1.000000\n",
       "REG_CITY_NOT_WORK_CITY         1.000000\n",
       "LIVE_CITY_NOT_WORK_CITY        1.000000\n",
       "ORGANIZATION_TYPE              1.000000\n",
       "EXT_SOURCE_2                   1.000000\n",
       "EXT_SOURCE_3                   1.000000\n",
       "OBS_30_CNT_SOCIAL_CIRCLE       1.000000\n",
       "DEF_30_CNT_SOCIAL_CIRCLE       1.000000\n",
       "OBS_60_CNT_SOCIAL_CIRCLE       1.000000\n",
       "DEF_60_CNT_SOCIAL_CIRCLE       1.000000\n",
       "DAYS_LAST_PHONE_CHANGE         1.000000\n",
       "AMT_REQ_CREDIT_BUREAU_HOUR     1.000000\n",
       "AMT_REQ_CREDIT_BUREAU_DAY      1.000000\n",
       "AMT_REQ_CREDIT_BUREAU_WEEK     1.000000\n",
       "AMT_REQ_CREDIT_BUREAU_MON      1.000000\n",
       "AMT_REQ_CREDIT_BUREAU_QRT      1.000000\n",
       "AMT_REQ_CREDIT_BUREAU_YEAR     1.000000\n",
       "AMT_INCOME_RANGE               1.000000\n",
       "AMT_CREDIT_RANGE               1.000000\n",
       "dtype: float64"
      ]
     },
     "execution_count": 8,
     "metadata": {},
     "output_type": "execute_result"
    }
   ],
   "source": [
    "df_loan.isna().mean()"
   ]
  },
  {
   "cell_type": "code",
   "execution_count": 9,
   "id": "ccad180d",
   "metadata": {},
   "outputs": [],
   "source": [
    "df_loan=df_loan[df_loan.columns[df_loan.isnull().mean() < 0.8]]"
   ]
  },
  {
   "cell_type": "code",
   "execution_count": 10,
   "id": "11ee82e8",
   "metadata": {},
   "outputs": [
    {
     "name": "stdout",
     "output_type": "stream",
     "text": [
      "<class 'pandas.core.frame.DataFrame'>\n",
      "RangeIndex: 207589 entries, 0 to 207588\n",
      "Data columns (total 23 columns):\n",
      " #   Column                      Non-Null Count   Dtype  \n",
      "---  ------                      --------------   -----  \n",
      " 0   SK_ID_CURR                  207589 non-null  int64  \n",
      " 1   TARGET                      207589 non-null  int64  \n",
      " 2   NAME_CONTRACT_TYPE          207589 non-null  object \n",
      " 3   CODE_GENDER                 207589 non-null  object \n",
      " 4   FLAG_OWN_CAR                207589 non-null  object \n",
      " 5   FLAG_OWN_REALTY             207589 non-null  object \n",
      " 6   CNT_CHILDREN                207589 non-null  int64  \n",
      " 7   AMT_INCOME_TOTAL            207589 non-null  float64\n",
      " 8   AMT_CREDIT                  207589 non-null  float64\n",
      " 9   AMT_ANNUITY                 207589 non-null  float64\n",
      " 10  AMT_GOODS_PRICE             207589 non-null  float64\n",
      " 11  NAME_TYPE_SUITE             207589 non-null  object \n",
      " 12  NAME_INCOME_TYPE            207589 non-null  object \n",
      " 13  NAME_EDUCATION_TYPE         207589 non-null  object \n",
      " 14  NAME_FAMILY_STATUS          207589 non-null  object \n",
      " 15  NAME_HOUSING_TYPE           207589 non-null  object \n",
      " 16  REGION_POPULATION_RELATIVE  207589 non-null  float64\n",
      " 17  DAYS_BIRTH                  207589 non-null  int64  \n",
      " 18  DAYS_EMPLOYED               207589 non-null  int64  \n",
      " 19  DAYS_REGISTRATION           207589 non-null  int64  \n",
      " 20  DAYS_ID_PUBLISH             207589 non-null  int64  \n",
      " 21  OCCUPATION_TYPE             207589 non-null  object \n",
      " 22  CNT_FAM_MEMBERS             207589 non-null  int64  \n",
      "dtypes: float64(5), int64(8), object(10)\n",
      "memory usage: 36.4+ MB\n"
     ]
    }
   ],
   "source": [
    "df_loan.info()"
   ]
  },
  {
   "cell_type": "code",
   "execution_count": 11,
   "id": "36a962a1",
   "metadata": {},
   "outputs": [],
   "source": [
    "df_loan.drop('SK_ID_CURR',axis=1,inplace=True)"
   ]
  },
  {
   "cell_type": "code",
   "execution_count": 12,
   "id": "ad3780f2",
   "metadata": {},
   "outputs": [],
   "source": [
    "num_cols=df_loan.select_dtypes(include=['int32','int64','float64']).columns.tolist()"
   ]
  },
  {
   "cell_type": "code",
   "execution_count": 13,
   "id": "a08bdfb0",
   "metadata": {},
   "outputs": [
    {
     "data": {
      "text/plain": [
       "['TARGET',\n",
       " 'CNT_CHILDREN',\n",
       " 'AMT_INCOME_TOTAL',\n",
       " 'AMT_CREDIT',\n",
       " 'AMT_ANNUITY',\n",
       " 'AMT_GOODS_PRICE',\n",
       " 'REGION_POPULATION_RELATIVE',\n",
       " 'DAYS_BIRTH',\n",
       " 'DAYS_EMPLOYED',\n",
       " 'DAYS_REGISTRATION',\n",
       " 'DAYS_ID_PUBLISH',\n",
       " 'CNT_FAM_MEMBERS']"
      ]
     },
     "execution_count": 13,
     "metadata": {},
     "output_type": "execute_result"
    }
   ],
   "source": [
    "num_cols"
   ]
  },
  {
   "cell_type": "code",
   "execution_count": 14,
   "id": "bdec8542",
   "metadata": {},
   "outputs": [],
   "source": [
    "cat_cols=df_loan.select_dtypes(include=['object']).columns.tolist()"
   ]
  },
  {
   "cell_type": "code",
   "execution_count": 15,
   "id": "247447a9",
   "metadata": {},
   "outputs": [
    {
     "data": {
      "text/plain": [
       "['NAME_CONTRACT_TYPE',\n",
       " 'CODE_GENDER',\n",
       " 'FLAG_OWN_CAR',\n",
       " 'FLAG_OWN_REALTY',\n",
       " 'NAME_TYPE_SUITE',\n",
       " 'NAME_INCOME_TYPE',\n",
       " 'NAME_EDUCATION_TYPE',\n",
       " 'NAME_FAMILY_STATUS',\n",
       " 'NAME_HOUSING_TYPE',\n",
       " 'OCCUPATION_TYPE']"
      ]
     },
     "execution_count": 15,
     "metadata": {},
     "output_type": "execute_result"
    }
   ],
   "source": [
    "cat_cols"
   ]
  },
  {
   "cell_type": "code",
   "execution_count": 16,
   "id": "933abace",
   "metadata": {},
   "outputs": [],
   "source": [
    "#chi2_contingency(pd.crosstab(df_loan['TARGET'],df_loan['EMERGENCYSTATE_MODE']))"
   ]
  },
  {
   "cell_type": "code",
   "execution_count": null,
   "id": "74a9e0d2",
   "metadata": {},
   "outputs": [],
   "source": []
  },
  {
   "cell_type": "raw",
   "id": "c9965406",
   "metadata": {},
   "source": [
    "#from sklearn.impute import KNNImputer\n",
    "#imputer = KNNImputer(n_neighbors=3)\n",
    "#imputer.fit_transform(df_loan_filtered[relevant_num_cols])\n",
    "#for cols in relevant_num_cols:\n",
    "#    df_loan_filtered[cols].fillna(df_loan_filtered[cols].median(),inplace=True)"
   ]
  },
  {
   "cell_type": "raw",
   "id": "86778007",
   "metadata": {},
   "source": [
    "for cols in relevant_cat_cols:\n",
    "    df_loan_filtered[cols].fillna(df_loan_filtered[cols].mode()[0], inplace=True)"
   ]
  },
  {
   "cell_type": "code",
   "execution_count": 17,
   "id": "4befc8b6",
   "metadata": {},
   "outputs": [],
   "source": [
    "#df_loan_filtered.dropna(inplace=True)"
   ]
  },
  {
   "cell_type": "code",
   "execution_count": 18,
   "id": "79e59ea5",
   "metadata": {},
   "outputs": [],
   "source": [
    "from sklearn import preprocessing\n",
    " \n",
    "# label_encoder object knows how to understand word labels.\n",
    "label_encoder = preprocessing.LabelEncoder()\n",
    "\n",
    "for cols in cat_cols:\n",
    "    df_loan[cols]= label_encoder.fit_transform(df_loan[cols])"
   ]
  },
  {
   "cell_type": "code",
   "execution_count": 19,
   "id": "97ac35b2",
   "metadata": {},
   "outputs": [],
   "source": [
    "# this will evaluate models, calculate ROC and generate confusion matrix\n",
    "def evaluate_model(model,df_model,model_type,plt_color, X_train, y_train, X_test, y_test):\n",
    "    y_train_pred= model.predict(X_train)\n",
    "    y_test_pred= model.predict(X_test)\n",
    "    train_roc=roc_auc_score(y_train,y_train_pred)\n",
    "    test_roc=roc_auc_score(y_test,y_test_pred)\n",
    "    print(\"Train Evaluation Score:- \")\n",
    "    print(\"ROC AUC Score:-\", \"{:.2f}\".format(train_roc))\n",
    "    print(\"Confusion Matrix:- \")\n",
    "    df_eval = pd.DataFrame(confusion_matrix(y_train, y_train_pred),\n",
    "                          columns=['Predicted Negative','Predicted Positive'],\n",
    "                          index = ['Actual Negative','Actual Positive'])\n",
    "    print(df_eval)\n",
    "    print(\"Test Evaluation Score:- \")\n",
    "    print(\"ROC AUC Score:-\", \"{:.2f}\".format(test_roc))\n",
    "    print(\"Confusion Matrix:- \")\n",
    "    df_eval = pd.DataFrame(confusion_matrix(y_test, y_test_pred),\n",
    "                          columns=['Predicted Negative','Predicted Positive'],\n",
    "                          index = ['Actual Negative','Actual Positive'])\n",
    "    print(df_eval)\n",
    "\n",
    "    y_pred_train_proba = model.predict_proba(X_train)[:,1] \n",
    "    y_test_proba = model.predict_proba(X_test)\n",
    "    #Accuracy = metrics.accuracy_score(y_pred=y_pred_l1, y_true=y_test)\n",
    "    precision = precision_score(y_train, y_train_pred, average='binary')\n",
    "    recall = recall_score(y_train, y_train_pred, average='binary')\n",
    "    #test_roc = roc_auc_score(y_test, y_test_proba)\n",
    "    df_model = df_model.append(pd.DataFrame({'Model': [model_type],'Accuracy':  [metrics.accuracy_score(y_pred=y_train_pred, y_true=y_train)],'Precision':[precision],'Recall':[recall],'F1':[metrics.f1_score(y_pred=y_train_pred, y_true=y_train)],'ROC':[train_roc], 'Test_ROC':[test_roc] }))\n",
    "    # Plotting ROC AUC Score\n",
    "    #y_test_proba = model.predict_proba(X_test)\n",
    "    # keep probabilities for the positive outcome only\n",
    "    \n",
    "    fpr1, tpr1, thresh1 = roc_curve(y_test,y_test_proba[:,1], pos_label=1)\n",
    "    random_probs=[0 for i in range(len(y_test))]\n",
    "    p_fpr, p_tpr , _ = roc_curve(y_test, random_probs, pos_label=1)\n",
    "    plt.style.use('seaborn')\n",
    "    plt.plot(fpr1, tpr1, linestyle='--', color=plt_color, label=model_type)\n",
    "    plt.plot(p_fpr, p_tpr, linestyle='--', color='blue')\n",
    "    #plt.title('ROC Curve')\n",
    "    plt.xlabel('False Positive Rate')\n",
    "    plt.ylabel('True Positive Rate')\n",
    "    plt.legend(loc='best')\n",
    "    plt.show\n",
    "    \n",
    "    return df_model"
   ]
  },
  {
   "cell_type": "code",
   "execution_count": 20,
   "id": "fcb96e75",
   "metadata": {},
   "outputs": [],
   "source": [
    "#Create a dataframe to store results\n",
    "df_model = pd.DataFrame(columns=['Model','Accuracy','Precision','Recall','F1','ROC','Test_ROC'])"
   ]
  },
  {
   "cell_type": "code",
   "execution_count": 21,
   "id": "79f45023",
   "metadata": {},
   "outputs": [],
   "source": [
    "y= df_loan.pop('TARGET') #class variable-- target variable\n",
    "X = df_loan#features\n",
    "sm = ADASYN(random_state=42)\n",
    "X_res, y_res = sm.fit_resample(X, y)"
   ]
  },
  {
   "cell_type": "code",
   "execution_count": 22,
   "id": "44228fa4",
   "metadata": {},
   "outputs": [
    {
     "name": "stdout",
     "output_type": "stream",
     "text": [
      "Resampled dataset shape Counter({1: 194014, 0: 191193})\n"
     ]
    }
   ],
   "source": [
    "print('Resampled dataset shape %s' % Counter(y_res))"
   ]
  },
  {
   "cell_type": "code",
   "execution_count": 23,
   "id": "a688e35a",
   "metadata": {},
   "outputs": [],
   "source": [
    "from sklearn import model_selection\n",
    "X_train, X_test, y_train, y_test =  model_selection.train_test_split(X_res, y_res, test_size=0.2, random_state = 42)"
   ]
  },
  {
   "cell_type": "markdown",
   "id": "e9731116",
   "metadata": {},
   "source": [
    "from keras.utils import np_utils\n",
    "from imblearn import over_sampling\n",
    "ada = over_sampling.ADASYN(sampling_strategy='minority')\n",
    "# fit and apply the transform\n",
    "X, y = ada.fit_resample(X_train, y_train)\n",
    "# X is the feature set and y is the target\n",
    "rkf = RepeatedKFold(n_splits=5, n_repeats=10, random_state=None)\n",
    "for train_index, test_index in rkf.split(X,y):\n",
    "    print(\"TRAIN:\", train_index, \"TEST:\", test_index)\n",
    "    X_train_cv, X_test_cv = X.iloc[train_index], X.iloc[test_index]\n",
    "    y_train_cv, y_test_cv = y.iloc[train_index], y.iloc[test_index]"
   ]
  },
  {
   "cell_type": "markdown",
   "id": "083e4347",
   "metadata": {},
   "source": [
    "### Hypertuning Logistic Regression"
   ]
  },
  {
   "cell_type": "code",
   "execution_count": 24,
   "id": "3486e028",
   "metadata": {},
   "outputs": [
    {
     "name": "stdout",
     "output_type": "stream",
     "text": [
      "{'C': 1e-08, 'penalty': 'l2'}\n"
     ]
    }
   ],
   "source": [
    "#logistic Regression\n",
    "from sklearn import linear_model #import the package\n",
    "from sklearn.model_selection import KFold\n",
    "clf=linear_model.LogisticRegression()\n",
    "num_C = list(np.power(10.0, np.arange(-10, 10)))\n",
    "cv_num = KFold(n_splits=5, shuffle=True, random_state=42)\n",
    "grid={\"C\":num_C, \"penalty\":[\"l1\",\"l2\"]}\n",
    "gridsearch = GridSearchCV(clf, grid,cv=cv_num) #hypertuning with C and penalty term \n",
    "gridsearch.fit(X_train, y_train)\n",
    "#Get best hyperparameters\n",
    "print(gridsearch.best_params_)\n",
    "\n"
   ]
  },
  {
   "cell_type": "code",
   "execution_count": 25,
   "id": "731d6d23",
   "metadata": {},
   "outputs": [
    {
     "name": "stdout",
     "output_type": "stream",
     "text": [
      "Train Evaluation Score:- \n",
      "ROC AUC Score:- 0.57\n",
      "Confusion Matrix:- \n",
      "                 Predicted Negative  Predicted Positive\n",
      "Actual Negative               90406               62370\n",
      "Actual Positive               70638               84751\n",
      "Test Evaluation Score:- \n",
      "ROC AUC Score:- 0.57\n",
      "Confusion Matrix:- \n",
      "                 Predicted Negative  Predicted Positive\n",
      "Actual Negative               22883               15534\n",
      "Actual Positive               17620               21005\n"
     ]
    },
    {
     "data": {
      "image/png": "[encoded data removed]",
      "text/plain": [
       "<Figure size 576x396 with 1 Axes>"
      ]
     },
     "metadata": {},
     "output_type": "display_data"
    }
   ],
   "source": [
    "c= gridsearch.best_params_['C']\n",
    "penalty=gridsearch.best_params_['penalty']\n",
    "lr = linear_model.LogisticRegression(C=c,penalty=penalty)\n",
    "lr.fit(X_train, y_train)\n",
    "\n",
    "df_model=evaluate_model(lr,df_model,'Logistic Regression','orange', X_train, y_train, X_test, y_test)"
   ]
  },
  {
   "cell_type": "markdown",
   "id": "73cbb854",
   "metadata": {},
   "source": [
    "### Hypertuning Decision Tree"
   ]
  },
  {
   "cell_type": "code",
   "execution_count": 26,
   "id": "59a114bc",
   "metadata": {},
   "outputs": [
    {
     "data": {
      "text/plain": [
       "{'criterion': 'gini', 'max_depth': 20, 'min_samples_leaf': 10}"
      ]
     },
     "execution_count": 26,
     "metadata": {},
     "output_type": "execute_result"
    }
   ],
   "source": [
    "from sklearn.tree import DecisionTreeClassifier\n",
    "from sklearn.model_selection import GridSearchCV\n",
    "params = {\n",
    "    'max_depth': [2, 3, 5, 10, 20],\n",
    "    'min_samples_leaf': [5, 10, 20, 50, 100],\n",
    "    'criterion': [\"gini\", \"entropy\"]\n",
    "}\n",
    "dtree = DecisionTreeClassifier()\n",
    "# Random search of parameters, using 3 fold cross validation, \n",
    "# search across 100 different combinations, and use all available cores\n",
    "#dtree_random = RandomizedSearchCV(estimator = dtree, param_distributions = params, n_iter = 3, cv = 3, verbose=2, random_state=42, n_jobs = -1)# Fit the random search model\n",
    "dtree_random = GridSearchCV(estimator = dtree, param_grid = params, cv = 3,n_jobs = -1)# Fit the random search model\n",
    "dtree_random.fit(X_train, y_train)\n",
    "dtree_random.best_params_"
   ]
  },
  {
   "cell_type": "code",
   "execution_count": 27,
   "id": "94ff7e46",
   "metadata": {},
   "outputs": [
    {
     "name": "stdout",
     "output_type": "stream",
     "text": [
      "Train Evaluation Score:- \n",
      "ROC AUC Score:- 0.90\n",
      "Confusion Matrix:- \n",
      "                 Predicted Negative  Predicted Positive\n",
      "Actual Negative              137240               15536\n",
      "Actual Positive               15802              139587\n",
      "Test Evaluation Score:- \n",
      "ROC AUC Score:- 0.82\n",
      "Confusion Matrix:- \n",
      "                 Predicted Negative  Predicted Positive\n",
      "Actual Negative               31540                6877\n",
      "Actual Positive                6699               31926\n"
     ]
    },
    {
     "data": {
      "image/png": "[encoded data removed]",
      "text/plain": [
       "<Figure size 576x396 with 1 Axes>"
      ]
     },
     "metadata": {},
     "output_type": "display_data"
    }
   ],
   "source": [
    "from sklearn.tree import DecisionTreeClassifier\n",
    "dt = DecisionTreeClassifier(min_samples_leaf=5,max_depth=20,criterion='gini',  random_state=42) \n",
    "dt.fit(X_train, y_train) \n",
    "df_model=evaluate_model(dt,df_model,'Decision Tree','red', X_train, y_train, X_test, y_test)\n"
   ]
  },
  {
   "cell_type": "markdown",
   "id": "83a4bee1",
   "metadata": {},
   "source": [
    "### Hypertuning RandomForest"
   ]
  },
  {
   "cell_type": "code",
   "execution_count": 28,
   "id": "5947a013",
   "metadata": {},
   "outputs": [
    {
     "name": "stdout",
     "output_type": "stream",
     "text": [
      "Fitting 3 folds for each of 96 candidates, totalling 288 fits\n"
     ]
    },
    {
     "data": {
      "text/plain": [
       "{'max_depth': 40,\n",
       " 'max_features': 'sqrt',\n",
       " 'min_samples_leaf': 2,\n",
       " 'min_samples_split': 5,\n",
       " 'n_estimators': 100}"
      ]
     },
     "execution_count": 28,
     "metadata": {},
     "output_type": "execute_result"
    }
   ],
   "source": [
    "from sklearn.model_selection import GridSearchCV# Number of trees in random forest\n",
    "n_estimators = [50,100]\n",
    "# Number of features to consider at every split\n",
    "max_features = ['auto', 'sqrt']\n",
    "# Maximum number of levels in tree\n",
    "max_depth = [20,30,40]\n",
    "max_depth.append(None)\n",
    "# Minimum number of samples required to split a node\n",
    "min_samples_split = [5, 10]\n",
    "# Minimum number of samples required at each leaf node\n",
    "min_samples_leaf = [2, 3, 5]\n",
    "# Method of selecting samples for training each tree\n",
    "random_grid = {'n_estimators': n_estimators,\n",
    "               'max_features': max_features,\n",
    "               'max_depth': max_depth,\n",
    "               'min_samples_split': min_samples_split,\n",
    "               'min_samples_leaf': min_samples_leaf}\n",
    "# Use the random grid to search for best hyperparameters\n",
    "# First create the base model to tune\n",
    "from sklearn.ensemble import RandomForestClassifier\n",
    "rf = RandomForestClassifier()\n",
    "# Random search of parameters, using 3 fold cross validation, \n",
    "# search across 100 different combinations, and use all available cores\n",
    "#rf_random = RandomizedSearchCV(estimator = rf, param_distributions = random_grid, n_iter = 1, cv = 3, verbose=2, random_state=42, n_jobs = -1)# Fit the random search model\n",
    "rf_random = GridSearchCV(estimator = rf, param_grid = random_grid,cv=3,  verbose=2, n_jobs = -1)# Fit the random search model\n",
    "rf_random.fit(X_train, y_train)\n",
    "rf_random.best_params_"
   ]
  },
  {
   "cell_type": "code",
   "execution_count": 29,
   "id": "788f51f7",
   "metadata": {},
   "outputs": [
    {
     "name": "stdout",
     "output_type": "stream",
     "text": [
      "Train Evaluation Score:- \n",
      "ROC AUC Score:- 0.98\n",
      "Confusion Matrix:- \n",
      "                 Predicted Negative  Predicted Positive\n",
      "Actual Negative              151658                1118\n",
      "Actual Positive                4836              150553\n",
      "Test Evaluation Score:- \n",
      "ROC AUC Score:- 0.90\n",
      "Confusion Matrix:- \n",
      "                 Predicted Negative  Predicted Positive\n",
      "Actual Negative               35797                2620\n",
      "Actual Positive                4760               33865\n"
     ]
    },
    {
     "data": {
      "image/png": "[encoded data removed]",
      "text/plain": [
       "<Figure size 576x396 with 1 Axes>"
      ]
     },
     "metadata": {},
     "output_type": "display_data"
    }
   ],
   "source": [
    "from sklearn.ensemble import RandomForestClassifier\n",
    "# Create the model with 100 trees\n",
    "RF_model = RandomForestClassifier(n_estimators=100, \n",
    "                                  min_samples_split=10,\n",
    "                                  min_samples_leaf=5,\n",
    "                                    bootstrap = False,\n",
    "                                  max_depth=40,\n",
    "                            max_features = 'sqrt', random_state=42)\n",
    "# Fit on training data\n",
    "RF_model.fit(X_train, y_train)\n",
    "df_model=evaluate_model(RF_model,df_model,'Random Forest','green', X_train, y_train, X_test, y_test)"
   ]
  },
  {
   "cell_type": "markdown",
   "id": "b8815314",
   "metadata": {},
   "source": [
    "### Hypertuning Adaboost"
   ]
  },
  {
   "cell_type": "code",
   "execution_count": 30,
   "id": "c7ee9027",
   "metadata": {},
   "outputs": [
    {
     "data": {
      "text/plain": [
       "{'n_estimators': 300}"
      ]
     },
     "execution_count": 30,
     "metadata": {},
     "output_type": "execute_result"
    }
   ],
   "source": [
    "from sklearn.ensemble import AdaBoostClassifier\n",
    "from sklearn.model_selection import GridSearchCV\n",
    "params = {\n",
    "    'n_estimators': [50,100,200,300]\n",
    "}\n",
    "adaboost = AdaBoostClassifier()\n",
    "# Random search of parameters, using 3 fold cross validation, \n",
    "# search across 100 different combinations, and use all available cores\n",
    "#dtree_random = RandomizedSearchCV(estimator = dtree, param_distributions = params, n_iter = 3, cv = 3, verbose=2, random_state=42, n_jobs = -1)# Fit the random search model\n",
    "adaboost_random = GridSearchCV(estimator = adaboost, param_grid = params, cv = 3,n_jobs = -1)# Fit the random search model\n",
    "adaboost_random.fit(X_train, y_train)\n",
    "adaboost_random.best_params_"
   ]
  },
  {
   "cell_type": "code",
   "execution_count": 31,
   "id": "a1e3ba44",
   "metadata": {},
   "outputs": [
    {
     "name": "stdout",
     "output_type": "stream",
     "text": [
      "Train Evaluation Score:- \n",
      "ROC AUC Score:- 0.86\n",
      "Confusion Matrix:- \n",
      "                 Predicted Negative  Predicted Positive\n",
      "Actual Negative              134576               18200\n",
      "Actual Positive               23765              131624\n",
      "Test Evaluation Score:- \n",
      "ROC AUC Score:- 0.86\n",
      "Confusion Matrix:- \n",
      "                 Predicted Negative  Predicted Positive\n",
      "Actual Negative               33866                4551\n",
      "Actual Positive                6152               32473\n"
     ]
    },
    {
     "data": {
      "image/png": "[encoded data removed]",
      "text/plain": [
       "<Figure size 576x396 with 1 Axes>"
      ]
     },
     "metadata": {},
     "output_type": "display_data"
    }
   ],
   "source": [
    "from sklearn.ensemble import AdaBoostClassifier\n",
    "adaboost = AdaBoostClassifier(n_estimators=300, random_state=42)\n",
    "adaboost.fit(X_train, y_train)\n",
    "df_model=evaluate_model(adaboost,df_model,'Adaptive Boosting','green', X_train, y_train, X_test, y_test)"
   ]
  },
  {
   "cell_type": "markdown",
   "id": "a98089b0",
   "metadata": {},
   "source": [
    "### Hypertune XGBoost"
   ]
  },
  {
   "cell_type": "code",
   "execution_count": 32,
   "id": "61879a55",
   "metadata": {},
   "outputs": [
    {
     "name": "stdout",
     "output_type": "stream",
     "text": [
      "Fitting 3 folds for each of 6 candidates, totalling 18 fits\n",
      "[CV] END ...................learning_rate=0.2, subsample=0.3; total time=  15.5s\n",
      "[CV] END ...................learning_rate=0.2, subsample=0.3; total time=  15.3s\n",
      "[CV] END ...................learning_rate=0.2, subsample=0.3; total time=  15.2s\n",
      "[CV] END ...................learning_rate=0.2, subsample=0.6; total time=  17.4s\n",
      "[CV] END ...................learning_rate=0.2, subsample=0.6; total time=  17.3s\n",
      "[CV] END ...................learning_rate=0.2, subsample=0.6; total time=  17.3s\n",
      "[CV] END ...................learning_rate=0.2, subsample=0.9; total time=  16.6s\n",
      "[CV] END ...................learning_rate=0.2, subsample=0.9; total time=  18.4s\n",
      "[CV] END ...................learning_rate=0.2, subsample=0.9; total time=  16.8s\n",
      "[CV] END ...................learning_rate=0.6, subsample=0.3; total time=  15.2s\n",
      "[CV] END ...................learning_rate=0.6, subsample=0.3; total time=  15.3s\n",
      "[CV] END ...................learning_rate=0.6, subsample=0.3; total time=  15.2s\n",
      "[CV] END ...................learning_rate=0.6, subsample=0.6; total time=  17.3s\n",
      "[CV] END ...................learning_rate=0.6, subsample=0.6; total time=  17.3s\n",
      "[CV] END ...................learning_rate=0.6, subsample=0.6; total time=  17.3s\n",
      "[CV] END ...................learning_rate=0.6, subsample=0.9; total time=  16.8s\n",
      "[CV] END ...................learning_rate=0.6, subsample=0.9; total time=  16.6s\n",
      "[CV] END ...................learning_rate=0.6, subsample=0.9; total time=  16.8s\n"
     ]
    },
    {
     "data": {
      "text/plain": [
       "{'learning_rate': 0.6, 'subsample': 0.9}"
      ]
     },
     "execution_count": 32,
     "metadata": {},
     "output_type": "execute_result"
    }
   ],
   "source": [
    "param_grid = {'learning_rate': [0.2, 0.6], \n",
    "             'subsample': [0.3, 0.6, 0.9]}          \n",
    "\n",
    "\n",
    "# specify model\n",
    "xgb_model = XGBClassifier(max_depth=2, n_estimators=200, eval_metric='logloss')\n",
    "\n",
    "# set up GridSearchCV()\n",
    "model_grid = GridSearchCV(estimator = xgb_model, \n",
    "                        param_grid = param_grid, \n",
    "                        scoring= 'roc_auc', \n",
    "                        cv = 3, \n",
    "                        verbose = 2,\n",
    "                        return_train_score=True) \n",
    "model_grid.fit(X_train, y_train)\n",
    "model_grid.best_params_"
   ]
  },
  {
   "cell_type": "code",
   "execution_count": 33,
   "id": "3aeae3c9",
   "metadata": {},
   "outputs": [
    {
     "name": "stdout",
     "output_type": "stream",
     "text": [
      "Train Evaluation Score:- \n",
      "ROC AUC Score:- 0.94\n",
      "Confusion Matrix:- \n",
      "                 Predicted Negative  Predicted Positive\n",
      "Actual Negative              149785                2991\n",
      "Actual Positive               16773              138616\n",
      "Test Evaluation Score:- \n",
      "ROC AUC Score:- 0.93\n",
      "Confusion Matrix:- \n",
      "                 Predicted Negative  Predicted Positive\n",
      "Actual Negative               37665                 752\n",
      "Actual Positive                4412               34213\n"
     ]
    },
    {
     "data": {
      "image/png": "[encoded data removed]",
      "text/plain": [
       "<Figure size 576x396 with 1 Axes>"
      ]
     },
     "metadata": {},
     "output_type": "display_data"
    }
   ],
   "source": [
    "XGBmodel = XGBClassifier(max_depth=2, n_estimators=200, eval_metric='logloss',learning_rate=0.6,subsample=0.9,random_state=42)\n",
    "XGBmodel.fit(X_train, y_train)\n",
    "df_model=evaluate_model(XGBmodel,df_model,'XGBoost','steelblue', X_train, y_train, X_test, y_test)"
   ]
  },
  {
   "cell_type": "code",
   "execution_count": 34,
   "id": "f07e6d36",
   "metadata": {},
   "outputs": [
    {
     "data": {
      "text/html": [
       "<div>\n",
       "<style scoped>\n",
       "    .dataframe tbody tr th:only-of-type {\n",
       "        vertical-align: middle;\n",
       "    }\n",
       "\n",
       "    .dataframe tbody tr th {\n",
       "        vertical-align: top;\n",
       "    }\n",
       "\n",
       "    .dataframe thead th {\n",
       "        text-align: right;\n",
       "    }\n",
       "</style>\n",
       "<table border=\"1\" class=\"dataframe\">\n",
       "  <thead>\n",
       "    <tr style=\"text-align: right;\">\n",
       "      <th></th>\n",
       "      <th>Model</th>\n",
       "      <th>Accuracy</th>\n",
       "      <th>Precision</th>\n",
       "      <th>Recall</th>\n",
       "      <th>F1</th>\n",
       "      <th>ROC</th>\n",
       "      <th>Test_ROC</th>\n",
       "    </tr>\n",
       "  </thead>\n",
       "  <tbody>\n",
       "    <tr>\n",
       "      <th>0</th>\n",
       "      <td>Logistic Regression</td>\n",
       "      <td>0.568387</td>\n",
       "      <td>0.576063</td>\n",
       "      <td>0.545412</td>\n",
       "      <td>0.560319</td>\n",
       "      <td>0.568584</td>\n",
       "      <td>0.569733</td>\n",
       "    </tr>\n",
       "    <tr>\n",
       "      <th>0</th>\n",
       "      <td>Decision Tree</td>\n",
       "      <td>0.898308</td>\n",
       "      <td>0.899847</td>\n",
       "      <td>0.898307</td>\n",
       "      <td>0.899076</td>\n",
       "      <td>0.898308</td>\n",
       "      <td>0.823777</td>\n",
       "    </tr>\n",
       "    <tr>\n",
       "      <th>0</th>\n",
       "      <td>Random Forest</td>\n",
       "      <td>0.980679</td>\n",
       "      <td>0.992629</td>\n",
       "      <td>0.968878</td>\n",
       "      <td>0.98061</td>\n",
       "      <td>0.98078</td>\n",
       "      <td>0.904282</td>\n",
       "    </tr>\n",
       "    <tr>\n",
       "      <th>0</th>\n",
       "      <td>Adaptive Boosting</td>\n",
       "      <td>0.863823</td>\n",
       "      <td>0.878524</td>\n",
       "      <td>0.847061</td>\n",
       "      <td>0.862506</td>\n",
       "      <td>0.863966</td>\n",
       "      <td>0.861131</td>\n",
       "    </tr>\n",
       "    <tr>\n",
       "      <th>0</th>\n",
       "      <td>XGBoost</td>\n",
       "      <td>0.935866</td>\n",
       "      <td>0.978878</td>\n",
       "      <td>0.892058</td>\n",
       "      <td>0.933454</td>\n",
       "      <td>0.93624</td>\n",
       "      <td>0.933099</td>\n",
       "    </tr>\n",
       "  </tbody>\n",
       "</table>\n",
       "</div>"
      ],
      "text/plain": [
       "                 Model  Accuracy Precision    Recall        F1       ROC  \\\n",
       "0  Logistic Regression  0.568387  0.576063  0.545412  0.560319  0.568584   \n",
       "0        Decision Tree  0.898308  0.899847  0.898307  0.899076  0.898308   \n",
       "0        Random Forest  0.980679  0.992629  0.968878   0.98061   0.98078   \n",
       "0    Adaptive Boosting  0.863823  0.878524  0.847061  0.862506  0.863966   \n",
       "0              XGBoost  0.935866  0.978878  0.892058  0.933454   0.93624   \n",
       "\n",
       "   Test_ROC  \n",
       "0  0.569733  \n",
       "0  0.823777  \n",
       "0  0.904282  \n",
       "0  0.861131  \n",
       "0  0.933099  "
      ]
     },
     "execution_count": 34,
     "metadata": {},
     "output_type": "execute_result"
    }
   ],
   "source": [
    "df_model"
   ]
  },
  {
   "cell_type": "code",
   "execution_count": null,
   "id": "d40f68b9",
   "metadata": {},
   "outputs": [],
   "source": []
  },
  {
   "cell_type": "code",
   "execution_count": null,
   "id": "925e627a",
   "metadata": {},
   "outputs": [],
   "source": []
  }
 ],
 "metadata": {
  "kernelspec": {
   "display_name": "Python 3",
   "language": "python",
   "name": "python3"
  },
  "language_info": {
   "codemirror_mode": {
    "name": "ipython",
    "version": 3
   },
   "file_extension": ".py",
   "mimetype": "text/x-python",
   "name": "python",
   "nbconvert_exporter": "python",
   "pygments_lexer": "ipython3",
   "version": "3.8.5"
  }
 },
 "nbformat": 4,
 "nbformat_minor": 5
}
